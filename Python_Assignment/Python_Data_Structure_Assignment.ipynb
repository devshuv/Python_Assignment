{
 "cells": [
  {
   "cell_type": "markdown",
   "id": "jGxqF4aIjNSq",
   "metadata": {
    "id": "jGxqF4aIjNSq"
   },
   "source": [
    "<a id='1'></a><center> <h3 style=\"background-color:orange; color:white\" ><br>Python Data Structures<br></h3>"
   ]
  },
  {
   "cell_type": "markdown",
   "id": "Kk7KNIBPUA-0",
   "metadata": {
    "id": "Kk7KNIBPUA-0"
   },
   "source": [
    "# `Types of Data Structures:`\n",
    "* `List` | `Tuple`\n",
    "* `Set` | `Dictionary`"
   ]
  },
  {
   "cell_type": "markdown",
   "id": "AobnaOlTUA-1",
   "metadata": {
    "id": "AobnaOlTUA-1"
   },
   "source": [
    "|Data Structures type|Mutable|Comments|Indexing|Ordered|Duplicacy|\n",
    "|----|----|----|----|----|----|\n",
    "tuple ()|immutable|immutable version of list| possible|yes |allowed |\n",
    "list []|mutable|-|possible |yes | allowed |\n",
    "set {}|mutable| -|not |no |not |\n",
    "dict {key:value}|mutable|-|possible |no |not  |"
   ]
  },
  {
   "cell_type": "markdown",
   "id": "9hM4zvgDUA-2",
   "metadata": {
    "id": "9hM4zvgDUA-2"
   },
   "source": [
    "💫 `immutable` => `can't be changed` <br>\n",
    "💫 `mutable` => `can be changed`"
   ]
  },
  {
   "cell_type": "code",
   "execution_count": null,
   "id": "XujUtHseUA-3",
   "metadata": {
    "id": "XujUtHseUA-3"
   },
   "outputs": [],
   "source": []
  },
  {
   "cell_type": "markdown",
   "id": "Tyavi31ZjNSw",
   "metadata": {
    "id": "Tyavi31ZjNSw"
   },
   "source": [
    "## Lists\n",
    "\n"
   ]
  },
  {
   "cell_type": "markdown",
   "id": "tkDQdRdUjNSy",
   "metadata": {
    "id": "tkDQdRdUjNSy"
   },
   "source": [
    "### Create an empty list with the name ‘a’, print the value of a and type(a).\n"
   ]
  },
  {
   "cell_type": "code",
   "execution_count": null,
   "id": "a6i4yNGvjNSz",
   "metadata": {
    "id": "a6i4yNGvjNSz"
   },
   "outputs": [],
   "source": [
    "# create empty list, name it 'a'"
   ]
  },
  {
   "cell_type": "code",
   "execution_count": 1,
   "id": "af428e52-1e2a-4b6c-8c95-c5c38bde00ad",
   "metadata": {},
   "outputs": [],
   "source": [
    "a = []"
   ]
  },
  {
   "cell_type": "code",
   "execution_count": null,
   "id": "M8FMNQEgjNS0",
   "metadata": {
    "id": "M8FMNQEgjNS0"
   },
   "outputs": [],
   "source": [
    "# print the value of a"
   ]
  },
  {
   "cell_type": "code",
   "execution_count": 2,
   "id": "27574027-41bd-48f2-97a5-5abaf20576c4",
   "metadata": {},
   "outputs": [
    {
     "name": "stdout",
     "output_type": "stream",
     "text": [
      "[]\n"
     ]
    }
   ],
   "source": [
    "print(a)"
   ]
  },
  {
   "cell_type": "code",
   "execution_count": null,
   "id": "Jfc9sg1vjNS1",
   "metadata": {
    "id": "Jfc9sg1vjNS1"
   },
   "outputs": [],
   "source": [
    "# print the type of a"
   ]
  },
  {
   "cell_type": "code",
   "execution_count": 3,
   "id": "67bcffdb-b2ca-45f3-9967-fedfeb817e0d",
   "metadata": {},
   "outputs": [
    {
     "data": {
      "text/plain": [
       "list"
      ]
     },
     "execution_count": 3,
     "metadata": {},
     "output_type": "execute_result"
    }
   ],
   "source": [
    "type(a)"
   ]
  },
  {
   "cell_type": "markdown",
   "id": "UNpN9_w4jNS1",
   "metadata": {
    "id": "UNpN9_w4jNS1"
   },
   "source": [
    "### Create a list , languages = ['R','Python', 'SAS', 'Scala', 42],"
   ]
  },
  {
   "cell_type": "code",
   "execution_count": 5,
   "id": "x-TG-vc5jNS2",
   "metadata": {
    "id": "x-TG-vc5jNS2"
   },
   "outputs": [],
   "source": [
    "languages = ['R','Python', 'SAS', 'Scala', 42]"
   ]
  },
  {
   "cell_type": "markdown",
   "id": "JDSIK8TbjNS3",
   "metadata": {
    "id": "JDSIK8TbjNS3"
   },
   "source": [
    "Print the number of elements in the list"
   ]
  },
  {
   "cell_type": "code",
   "execution_count": 6,
   "id": "C4lBMaM8jNS3",
   "metadata": {
    "id": "C4lBMaM8jNS3"
   },
   "outputs": [
    {
     "name": "stdout",
     "output_type": "stream",
     "text": [
      "5\n"
     ]
    }
   ],
   "source": [
    "print(len(languages))"
   ]
  },
  {
   "cell_type": "markdown",
   "id": "EyzO_pcnjNS3",
   "metadata": {
    "id": "EyzO_pcnjNS3"
   },
   "source": [
    "Using for loop iterate and print all the elements in the list"
   ]
  },
  {
   "cell_type": "code",
   "execution_count": 7,
   "id": "TyM54ydsjNS4",
   "metadata": {
    "id": "TyM54ydsjNS4"
   },
   "outputs": [
    {
     "name": "stdout",
     "output_type": "stream",
     "text": [
      "R\n",
      "Python\n",
      "SAS\n",
      "Scala\n",
      "42\n"
     ]
    }
   ],
   "source": [
    "for language in languages:\n",
    "    print(language)"
   ]
  },
  {
   "cell_type": "markdown",
   "id": "eC1fqz9LjNS4",
   "metadata": {
    "id": "eC1fqz9LjNS4"
   },
   "source": [
    "Select the second item, 'Python' and store it in a new variable named 'temp'"
   ]
  },
  {
   "cell_type": "code",
   "execution_count": 1,
   "id": "KY0KhRlOjNS4",
   "metadata": {
    "id": "KY0KhRlOjNS4"
   },
   "outputs": [],
   "source": [
    "temp ='Python'"
   ]
  },
  {
   "cell_type": "markdown",
   "id": "breORMa_jNS4",
   "metadata": {
    "id": "breORMa_jNS4"
   },
   "source": [
    "Print the value of temp and type(temp)"
   ]
  },
  {
   "cell_type": "code",
   "execution_count": 2,
   "id": "edccd488-7d34-4ff8-9809-89cc9baa335c",
   "metadata": {},
   "outputs": [
    {
     "name": "stdout",
     "output_type": "stream",
     "text": [
      "Python\n"
     ]
    }
   ],
   "source": [
    "print(temp)"
   ]
  },
  {
   "cell_type": "code",
   "execution_count": 3,
   "id": "cfd15bd0-888d-4b34-9552-cdec6c0f5286",
   "metadata": {},
   "outputs": [
    {
     "data": {
      "text/plain": [
       "str"
      ]
     },
     "execution_count": 3,
     "metadata": {},
     "output_type": "execute_result"
    }
   ],
   "source": [
    "type(temp)"
   ]
  },
  {
   "cell_type": "markdown",
   "id": "I4MrKlAUjNS5",
   "metadata": {
    "id": "I4MrKlAUjNS5"
   },
   "source": [
    "Append the element 'Java' in the list"
   ]
  },
  {
   "cell_type": "code",
   "execution_count": 8,
   "id": "rOtqZY6PjNS6",
   "metadata": {
    "id": "rOtqZY6PjNS6"
   },
   "outputs": [
    {
     "name": "stdout",
     "output_type": "stream",
     "text": [
      "['R', 'Python', 'SAS', 'Scala', 42, 'Java']\n"
     ]
    }
   ],
   "source": [
    "languages.append('Java')\n",
    "print(languages)"
   ]
  },
  {
   "cell_type": "markdown",
   "id": "ksEn8qvFjNS6",
   "metadata": {
    "id": "ksEn8qvFjNS6"
   },
   "source": [
    "Remove the element 42 from the list and print the list"
   ]
  },
  {
   "cell_type": "code",
   "execution_count": 10,
   "id": "Lxuzfc1bjNS6",
   "metadata": {
    "id": "Lxuzfc1bjNS6"
   },
   "outputs": [
    {
     "name": "stdout",
     "output_type": "stream",
     "text": [
      "['R', 'Python', 'SAS', 'Scala', 'Java']\n"
     ]
    }
   ],
   "source": [
    "languages.remove(42)\n",
    "print(languages)"
   ]
  },
  {
   "cell_type": "markdown",
   "id": "19MjI0w6jNS6",
   "metadata": {
    "id": "19MjI0w6jNS6"
   },
   "source": [
    "### Create a list, colors = [‘Red’, ‘Blue’, ‘White’]"
   ]
  },
  {
   "cell_type": "code",
   "execution_count": 25,
   "id": "Z1lMzdbWjNS7",
   "metadata": {
    "id": "Z1lMzdbWjNS7"
   },
   "outputs": [],
   "source": [
    "colors = ['Red', 'Blue', 'White']"
   ]
  },
  {
   "cell_type": "markdown",
   "id": "VAqLj5R3jNS7",
   "metadata": {
    "id": "VAqLj5R3jNS7"
   },
   "source": [
    "Append the element 'Black' to colors"
   ]
  },
  {
   "cell_type": "code",
   "execution_count": 26,
   "id": "gvb5iC7ljNS7",
   "metadata": {
    "id": "gvb5iC7ljNS7"
   },
   "outputs": [
    {
     "name": "stdout",
     "output_type": "stream",
     "text": [
      "['Red', 'Blue', 'White', 'Black']\n"
     ]
    }
   ],
   "source": [
    "colors.append('Black')\n",
    "print(colors)"
   ]
  },
  {
   "cell_type": "markdown",
   "id": "MFWIzVcvjNS7",
   "metadata": {
    "id": "MFWIzVcvjNS7"
   },
   "source": [
    "Append the color 'Orange' to second position (index=1) and print the list"
   ]
  },
  {
   "cell_type": "code",
   "execution_count": 27,
   "id": "Fb6YZDSNjNS8",
   "metadata": {
    "id": "Fb6YZDSNjNS8"
   },
   "outputs": [
    {
     "name": "stdout",
     "output_type": "stream",
     "text": [
      "['Red', 'Orange', 'Blue', 'White', 'Black']\n"
     ]
    }
   ],
   "source": [
    "colors.insert(1,'Orange')\n",
    "print(colors)"
   ]
  },
  {
   "cell_type": "markdown",
   "id": "8DWB76AOjNS8",
   "metadata": {
    "id": "8DWB76AOjNS8"
   },
   "source": [
    "Print the list\n"
   ]
  },
  {
   "cell_type": "code",
   "execution_count": 28,
   "id": "0ldkGCozjNS8",
   "metadata": {
    "id": "0ldkGCozjNS8"
   },
   "outputs": [
    {
     "name": "stdout",
     "output_type": "stream",
     "text": [
      "['Red', 'Orange', 'Blue', 'White', 'Black']\n"
     ]
    }
   ],
   "source": [
    "print(colors)"
   ]
  },
  {
   "cell_type": "markdown",
   "id": "WfFfxvLKjNS8",
   "metadata": {
    "id": "WfFfxvLKjNS8"
   },
   "source": [
    "Create another list, colors2 = [‘Grey’, ‘Sky Blue’]"
   ]
  },
  {
   "cell_type": "code",
   "execution_count": 29,
   "id": "onZEiwdUjNS8",
   "metadata": {
    "id": "onZEiwdUjNS8"
   },
   "outputs": [],
   "source": [
    "colors2 = ['Grey', 'Sky Blue']"
   ]
  },
  {
   "cell_type": "markdown",
   "id": "MrNQk6uKjNS8",
   "metadata": {
    "id": "MrNQk6uKjNS8"
   },
   "source": [
    "Add the elements of colors2 to colors using extend function in the list"
   ]
  },
  {
   "cell_type": "code",
   "execution_count": 30,
   "id": "Hr1Eu88OjNS9",
   "metadata": {
    "id": "Hr1Eu88OjNS9"
   },
   "outputs": [],
   "source": [
    "colors.extend(colors2)"
   ]
  },
  {
   "cell_type": "markdown",
   "id": "u0KDeU20jNS9",
   "metadata": {
    "id": "u0KDeU20jNS9"
   },
   "source": [
    "Print len of colors and its elements"
   ]
  },
  {
   "cell_type": "code",
   "execution_count": 31,
   "id": "bnBmsCg2jNS9",
   "metadata": {
    "id": "bnBmsCg2jNS9"
   },
   "outputs": [
    {
     "data": {
      "text/plain": [
       "7"
      ]
     },
     "execution_count": 31,
     "metadata": {},
     "output_type": "execute_result"
    }
   ],
   "source": [
    "len(colors)"
   ]
  },
  {
   "cell_type": "code",
   "execution_count": 32,
   "id": "e59d406f-6ada-46f8-ab50-50b09a365cda",
   "metadata": {},
   "outputs": [
    {
     "name": "stdout",
     "output_type": "stream",
     "text": [
      "['Red', 'Orange', 'Blue', 'White', 'Black', 'Grey', 'Sky Blue']\n"
     ]
    }
   ],
   "source": [
    "print(colors)"
   ]
  },
  {
   "cell_type": "markdown",
   "id": "vJ7YqokSjNS9",
   "metadata": {
    "id": "vJ7YqokSjNS9"
   },
   "source": [
    "Sort the list and print it."
   ]
  },
  {
   "cell_type": "code",
   "execution_count": 33,
   "id": "X14C-1PtjNS9",
   "metadata": {
    "id": "X14C-1PtjNS9"
   },
   "outputs": [
    {
     "name": "stdout",
     "output_type": "stream",
     "text": [
      "['Black', 'Blue', 'Grey', 'Orange', 'Red', 'Sky Blue', 'White']\n"
     ]
    }
   ],
   "source": [
    "colors.sort()\n",
    "print(colors)"
   ]
  },
  {
   "cell_type": "markdown",
   "id": "MdN5B9F9jNS-",
   "metadata": {
    "id": "MdN5B9F9jNS-"
   },
   "source": [
    "### Create a string, sent = ‘Coronavirus Caused Lockdowns Around The World.”"
   ]
  },
  {
   "cell_type": "code",
   "execution_count": 2,
   "id": "j4JUR085jNS-",
   "metadata": {
    "id": "j4JUR085jNS-"
   },
   "outputs": [],
   "source": [
    "sent = 'Coronavirus Caused Lockdowns Around The World.'"
   ]
  },
  {
   "cell_type": "markdown",
   "id": "rcn18drOjNS-",
   "metadata": {
    "id": "rcn18drOjNS-"
   },
   "source": [
    "Use split function to convert the string into a list of words and save it in variable words and print the same"
   ]
  },
  {
   "cell_type": "code",
   "execution_count": 5,
   "id": "fjiKSboajNS-",
   "metadata": {
    "id": "fjiKSboajNS-"
   },
   "outputs": [
    {
     "name": "stdout",
     "output_type": "stream",
     "text": [
      "['Coronavirus', 'Caused', 'Lockdowns', 'Around', 'The', 'World.']\n"
     ]
    }
   ],
   "source": [
    "word_list = sent.split(' ')\n",
    "print(word_list)"
   ]
  },
  {
   "cell_type": "markdown",
   "id": "rowxhN26jNS_",
   "metadata": {
    "id": "rowxhN26jNS_"
   },
   "source": [
    "Convert each word in the list to lower case and store it in variable words_lower.\n",
    "Print words_lower"
   ]
  },
  {
   "cell_type": "code",
   "execution_count": 4,
   "id": "LuzAECOVjNS_",
   "metadata": {
    "id": "LuzAECOVjNS_"
   },
   "outputs": [
    {
     "name": "stdout",
     "output_type": "stream",
     "text": [
      "coronavirus caused lockdowns around the world.\n"
     ]
    }
   ],
   "source": [
    "words_lower = sent.lower()\n",
    "print(words_lower)"
   ]
  },
  {
   "cell_type": "markdown",
   "id": "zznwP-l9jNS_",
   "metadata": {
    "id": "zznwP-l9jNS_"
   },
   "source": [
    "Check whether ‘country’ is in the list"
   ]
  },
  {
   "cell_type": "code",
   "execution_count": 6,
   "id": "y-U1felnjNS_",
   "metadata": {
    "id": "y-U1felnjNS_"
   },
   "outputs": [
    {
     "name": "stdout",
     "output_type": "stream",
     "text": [
      "'country' is not in the list.\n"
     ]
    }
   ],
   "source": [
    "if 'country' in word_list:\n",
    "    print(\"'country' is in the list.\")\n",
    "else:\n",
    "    print(\"'country' is not in the list.\")"
   ]
  },
  {
   "cell_type": "markdown",
   "id": "AZMvSVKWjNS_",
   "metadata": {
    "id": "AZMvSVKWjNS_"
   },
   "source": [
    "Remove the element ‘the’ from the list and print the list."
   ]
  },
  {
   "cell_type": "code",
   "execution_count": 7,
   "id": "bmDbpYd7jNS_",
   "metadata": {
    "id": "bmDbpYd7jNS_"
   },
   "outputs": [
    {
     "name": "stdout",
     "output_type": "stream",
     "text": [
      "['Coronavirus', 'Caused', 'Lockdowns', 'Around', 'World.']\n"
     ]
    }
   ],
   "source": [
    "word_list.remove('The')\n",
    "print(word_list)"
   ]
  },
  {
   "cell_type": "markdown",
   "id": "int3gJc0jNS_",
   "metadata": {
    "id": "int3gJc0jNS_"
   },
   "source": [
    "Select the first 4 words from the list words_lower using slicing and store them in a new variable x4"
   ]
  },
  {
   "cell_type": "code",
   "execution_count": 8,
   "id": "fXOJmYI1jNTA",
   "metadata": {
    "id": "fXOJmYI1jNTA"
   },
   "outputs": [],
   "source": [
    "word_list = words_lower.split()\n",
    "\n",
    "x4 = word_list[:4]"
   ]
  },
  {
   "cell_type": "code",
   "execution_count": null,
   "id": "2Kb_1V9HjNTA",
   "metadata": {
    "id": "2Kb_1V9HjNTA"
   },
   "outputs": [],
   "source": [
    "# print x4"
   ]
  },
  {
   "cell_type": "code",
   "execution_count": 9,
   "id": "9c00a7e9-9bf2-4e31-957b-56a26424813b",
   "metadata": {},
   "outputs": [
    {
     "name": "stdout",
     "output_type": "stream",
     "text": [
      "['coronavirus', 'caused', 'lockdowns', 'around']\n"
     ]
    }
   ],
   "source": [
    "print(x4)"
   ]
  },
  {
   "cell_type": "markdown",
   "id": "3HgP3nUmjNTA",
   "metadata": {
    "id": "3HgP3nUmjNTA"
   },
   "source": [
    "Convert the list of elements to single string using join function and print it"
   ]
  },
  {
   "cell_type": "code",
   "execution_count": 10,
   "id": "hiXO7ekhjNTA",
   "metadata": {
    "id": "hiXO7ekhjNTA"
   },
   "outputs": [
    {
     "name": "stdout",
     "output_type": "stream",
     "text": [
      "coronavirus caused lockdowns around\n"
     ]
    }
   ],
   "source": [
    "x4 = ['coronavirus', 'caused', 'lockdowns', 'around']     #list of words\n",
    "\n",
    "# Convert the list to a single string\n",
    "single_string = ' '.join(x4)\n",
    "print(single_string)"
   ]
  },
  {
   "cell_type": "markdown",
   "id": "tW6We_kvjNTA",
   "metadata": {
    "id": "tW6We_kvjNTA"
   },
   "source": [
    "## Sets"
   ]
  },
  {
   "cell_type": "markdown",
   "id": "02qkte5xjNTA",
   "metadata": {
    "id": "02qkte5xjNTA"
   },
   "source": [
    "### Create stud_grades = ['A','A','B','C','C','F']"
   ]
  },
  {
   "cell_type": "code",
   "execution_count": 11,
   "id": "M5P_qZaTjNTB",
   "metadata": {
    "id": "M5P_qZaTjNTB"
   },
   "outputs": [],
   "source": [
    "stud_grades = ['A','A','B','C','C','F']"
   ]
  },
  {
   "cell_type": "markdown",
   "id": "XazCnMcBjNTB",
   "metadata": {
    "id": "XazCnMcBjNTB"
   },
   "source": [
    "Print the len of stud_grades"
   ]
  },
  {
   "cell_type": "code",
   "execution_count": 12,
   "id": "gMMJN-V5jNTB",
   "metadata": {
    "id": "gMMJN-V5jNTB"
   },
   "outputs": [
    {
     "data": {
      "text/plain": [
       "6"
      ]
     },
     "execution_count": 12,
     "metadata": {},
     "output_type": "execute_result"
    }
   ],
   "source": [
    "len(stud_grades)"
   ]
  },
  {
   "cell_type": "markdown",
   "id": "ALm7hstGjNTB",
   "metadata": {
    "id": "ALm7hstGjNTB"
   },
   "source": [
    "Create a new variable, stud_grades_set = set(stud_grades)"
   ]
  },
  {
   "cell_type": "code",
   "execution_count": 14,
   "id": "ItDkZir6UA_W",
   "metadata": {
    "id": "ItDkZir6UA_W"
   },
   "outputs": [],
   "source": [
    "stud_grades_set = set(stud_grades)"
   ]
  },
  {
   "cell_type": "markdown",
   "id": "JJESkQiJjNTB",
   "metadata": {
    "id": "JJESkQiJjNTB"
   },
   "source": [
    "Print stud_grades_set."
   ]
  },
  {
   "cell_type": "code",
   "execution_count": 15,
   "id": "Q-daiiLPjNTB",
   "metadata": {
    "id": "Q-daiiLPjNTB"
   },
   "outputs": [
    {
     "name": "stdout",
     "output_type": "stream",
     "text": [
      "{'A', 'B', 'C', 'F'}\n"
     ]
    }
   ],
   "source": [
    "print(stud_grades_set)"
   ]
  },
  {
   "cell_type": "markdown",
   "id": "hNeCPwPOjNTC",
   "metadata": {
    "id": "hNeCPwPOjNTC"
   },
   "source": [
    "print the type of stud_grades and stud_grades_set and print their corresponding elements. Try to understand the difference between them."
   ]
  },
  {
   "cell_type": "code",
   "execution_count": 19,
   "id": "g7cntC0ojNTC",
   "metadata": {
    "id": "g7cntC0ojNTC"
   },
   "outputs": [
    {
     "name": "stdout",
     "output_type": "stream",
     "text": [
      "<class 'list'>\n",
      "['A', 'A', 'B', 'C', 'C', 'F']\n"
     ]
    }
   ],
   "source": [
    "print(type(stud_grades))\n",
    "print(stud_grades)"
   ]
  },
  {
   "cell_type": "code",
   "execution_count": 20,
   "id": "452bba86-33e2-40d9-bb00-b5e0ca131512",
   "metadata": {},
   "outputs": [
    {
     "name": "stdout",
     "output_type": "stream",
     "text": [
      "<class 'set'>\n",
      "{'A', 'B', 'C', 'F'}\n"
     ]
    }
   ],
   "source": [
    "print(type(stud_grades_set))\n",
    "print(stud_grades_set)"
   ]
  },
  {
   "cell_type": "markdown",
   "id": "WjzzJX8yjNTC",
   "metadata": {
    "id": "WjzzJX8yjNTC"
   },
   "source": [
    "Add a new element ‘G’ to stud_grades_set"
   ]
  },
  {
   "cell_type": "code",
   "execution_count": 21,
   "id": "y80DVAlRjNTC",
   "metadata": {
    "id": "y80DVAlRjNTC"
   },
   "outputs": [
    {
     "name": "stdout",
     "output_type": "stream",
     "text": [
      "{'C', 'A', 'G', 'B', 'F'}\n"
     ]
    }
   ],
   "source": [
    "stud_grades_set.add('G')\n",
    "print(stud_grades_set)"
   ]
  },
  {
   "cell_type": "markdown",
   "id": "4TO9zhSJjNTC",
   "metadata": {
    "id": "4TO9zhSJjNTC"
   },
   "source": [
    "Add element 'F' to stud_grades_set. and print it."
   ]
  },
  {
   "cell_type": "code",
   "execution_count": 26,
   "id": "Bh4tc1zCjNTC",
   "metadata": {
    "id": "Bh4tc1zCjNTC"
   },
   "outputs": [
    {
     "name": "stdout",
     "output_type": "stream",
     "text": [
      "{'C', 'A', 'G', 'B', 'F'}\n"
     ]
    }
   ],
   "source": [
    "\n",
    "stud_grades_set.add('F')\n",
    "print(stud_grades_set)         \n",
    "# In set if any value present twice time, that value shown this set only one ."
   ]
  },
  {
   "cell_type": "markdown",
   "id": "FSgM3DD5jNTD",
   "metadata": {
    "id": "FSgM3DD5jNTD"
   },
   "source": [
    "!!Did you notice? set doesn't add an element if it's already present in it, unlike lists."
   ]
  },
  {
   "cell_type": "markdown",
   "id": "tqz1GBM5jNTD",
   "metadata": {
    "id": "tqz1GBM5jNTD"
   },
   "source": [
    "Remove ‘F’ from stud_grades_set"
   ]
  },
  {
   "cell_type": "code",
   "execution_count": 23,
   "id": "zOLBDdk0jNTD",
   "metadata": {
    "id": "zOLBDdk0jNTD"
   },
   "outputs": [
    {
     "name": "stdout",
     "output_type": "stream",
     "text": [
      "{'C', 'A', 'G', 'B'}\n"
     ]
    }
   ],
   "source": [
    "stud_grades_set.remove('F')\n",
    "print(stud_grades_set)"
   ]
  },
  {
   "cell_type": "markdown",
   "id": "wxMXywoRjNTD",
   "metadata": {
    "id": "wxMXywoRjNTD"
   },
   "source": [
    "Print the elements and the length of stud_grades_set"
   ]
  },
  {
   "cell_type": "code",
   "execution_count": 24,
   "id": "lS582g27jNTD",
   "metadata": {
    "id": "lS582g27jNTD"
   },
   "outputs": [
    {
     "name": "stdout",
     "output_type": "stream",
     "text": [
      "{'C', 'A', 'G', 'B'}\n"
     ]
    }
   ],
   "source": [
    "print(stud_grades_set)"
   ]
  },
  {
   "cell_type": "code",
   "execution_count": 25,
   "id": "4cf58c7a-0679-409f-9da6-31031cfbd62a",
   "metadata": {},
   "outputs": [
    {
     "data": {
      "text/plain": [
       "4"
      ]
     },
     "execution_count": 25,
     "metadata": {},
     "output_type": "execute_result"
    }
   ],
   "source": [
    "len(stud_grades_set)"
   ]
  },
  {
   "cell_type": "markdown",
   "id": "FctCYkNBjNTD",
   "metadata": {
    "id": "FctCYkNBjNTD"
   },
   "source": [
    "### Create colors = [‘red’,’blue’,’orange’], and fruits = [‘orange’,’grapes’,’apples’]"
   ]
  },
  {
   "cell_type": "code",
   "execution_count": 27,
   "id": "Ax9GSualUA_b",
   "metadata": {
    "id": "Ax9GSualUA_b"
   },
   "outputs": [],
   "source": [
    "colors = ['red','blue','orange']\n",
    "fruits = ['orange','grapes','apples']"
   ]
  },
  {
   "cell_type": "markdown",
   "id": "kfIRtvphjNTE",
   "metadata": {
    "id": "kfIRtvphjNTE"
   },
   "source": [
    "Print color and fruits"
   ]
  },
  {
   "cell_type": "code",
   "execution_count": 28,
   "id": "q-gavK0-jNTE",
   "metadata": {
    "id": "q-gavK0-jNTE"
   },
   "outputs": [
    {
     "name": "stdout",
     "output_type": "stream",
     "text": [
      "['red', 'blue', 'orange']\n",
      "['orange', 'grapes', 'apples']\n"
     ]
    }
   ],
   "source": [
    "print(colors)\n",
    "print(fruits)"
   ]
  },
  {
   "cell_type": "markdown",
   "id": "uMOTrWwSjNTE",
   "metadata": {
    "id": "uMOTrWwSjNTE"
   },
   "source": [
    "Create colors_set, and fruits_set. (using set() ) and print them"
   ]
  },
  {
   "cell_type": "code",
   "execution_count": 29,
   "id": "pjs5HyB0UA_d",
   "metadata": {
    "id": "pjs5HyB0UA_d"
   },
   "outputs": [
    {
     "name": "stdout",
     "output_type": "stream",
     "text": [
      "{'orange', 'red', 'blue'}\n",
      "{'orange', 'grapes', 'apples'}\n"
     ]
    }
   ],
   "source": [
    "colors_set = set(colors)\n",
    "fruits_set = set(fruits)\n",
    "\n",
    "print(colors_set)\n",
    "print(fruits_set)"
   ]
  },
  {
   "cell_type": "markdown",
   "id": "tW9fj0R1jNTE",
   "metadata": {
    "id": "tW9fj0R1jNTE"
   },
   "source": [
    "Find the union of both the sets."
   ]
  },
  {
   "cell_type": "code",
   "execution_count": 34,
   "id": "oyskI_CTjNTE",
   "metadata": {
    "id": "oyskI_CTjNTE"
   },
   "outputs": [
    {
     "name": "stdout",
     "output_type": "stream",
     "text": [
      "{'red', 'blue', 'orange', 'grapes', 'apples'}\n",
      "{'red', 'blue', 'orange', 'grapes', 'apples'}\n"
     ]
    }
   ],
   "source": [
    "print(colors_set.union(fruits_set))\n",
    "print(fruits_set.union(colors_set))"
   ]
  },
  {
   "cell_type": "markdown",
   "id": "3yXYgYBLjNTF",
   "metadata": {
    "id": "3yXYgYBLjNTF"
   },
   "source": [
    "Find the intersection of both the sets"
   ]
  },
  {
   "cell_type": "code",
   "execution_count": 35,
   "id": "3AzYqu5sjNTF",
   "metadata": {
    "id": "3AzYqu5sjNTF"
   },
   "outputs": [
    {
     "name": "stdout",
     "output_type": "stream",
     "text": [
      "{'orange'}\n",
      "{'orange'}\n"
     ]
    }
   ],
   "source": [
    "print(colors_set.intersection(fruits_set))\n",
    "print(fruits_set.intersection(colors_set))"
   ]
  },
  {
   "cell_type": "markdown",
   "id": "PuhlSjH_jNTF",
   "metadata": {
    "id": "PuhlSjH_jNTF"
   },
   "source": [
    "Find the elements which are Fruits but not colors (using set.difference() )"
   ]
  },
  {
   "cell_type": "code",
   "execution_count": 36,
   "id": "gBaxHXrfjNTF",
   "metadata": {
    "id": "gBaxHXrfjNTF"
   },
   "outputs": [
    {
     "name": "stdout",
     "output_type": "stream",
     "text": [
      "{'red', 'blue'}\n",
      "{'grapes', 'apples'}\n"
     ]
    }
   ],
   "source": [
    "print(colors_set.difference(fruits_set))\n",
    "print(fruits_set.difference(colors_set))"
   ]
  },
  {
   "cell_type": "markdown",
   "id": "hLZeBta3jNTF",
   "metadata": {
    "id": "hLZeBta3jNTF"
   },
   "source": [
    "## TUPLES"
   ]
  },
  {
   "cell_type": "markdown",
   "id": "Nerhdg66jNTF",
   "metadata": {
    "id": "Nerhdg66jNTF"
   },
   "source": [
    "### Create temp = [17, ’Virat’, 50.0]"
   ]
  },
  {
   "cell_type": "code",
   "execution_count": 38,
   "id": "YKb5GS-FUA_f",
   "metadata": {
    "id": "YKb5GS-FUA_f"
   },
   "outputs": [],
   "source": [
    "temp = [17, 'Virat', 50.0]"
   ]
  },
  {
   "cell_type": "markdown",
   "id": "C0IuMJFijNTG",
   "metadata": {
    "id": "C0IuMJFijNTG"
   },
   "source": [
    "Iterate through temp and print all the items in temp"
   ]
  },
  {
   "cell_type": "code",
   "execution_count": 39,
   "id": "CSKY_cgHjNTG",
   "metadata": {
    "id": "CSKY_cgHjNTG"
   },
   "outputs": [
    {
     "name": "stdout",
     "output_type": "stream",
     "text": [
      "17\n",
      "Virat\n",
      "50.0\n"
     ]
    }
   ],
   "source": [
    "for item in  temp:\n",
    "    print(item)"
   ]
  },
  {
   "cell_type": "markdown",
   "id": "gI0kBGQ1jNTG",
   "metadata": {
    "id": "gI0kBGQ1jNTG"
   },
   "source": [
    "replace first element with 11 in temp"
   ]
  },
  {
   "cell_type": "code",
   "execution_count": 40,
   "id": "p6JCtyOBjNTG",
   "metadata": {
    "id": "p6JCtyOBjNTG"
   },
   "outputs": [
    {
     "name": "stdout",
     "output_type": "stream",
     "text": [
      "[11, 'Virat', 50.0]\n"
     ]
    }
   ],
   "source": [
    "temp[0] = 11\n",
    "\n",
    "print(temp)"
   ]
  },
  {
   "cell_type": "markdown",
   "id": "JV3b34AdjNTG",
   "metadata": {
    "id": "JV3b34AdjNTG"
   },
   "source": [
    "Set temp1 = tuple(temp)"
   ]
  },
  {
   "cell_type": "code",
   "execution_count": 41,
   "id": "yFu9n19tUA_g",
   "metadata": {
    "id": "yFu9n19tUA_g"
   },
   "outputs": [
    {
     "name": "stdout",
     "output_type": "stream",
     "text": [
      "(11, 'Virat', 50.0)\n"
     ]
    }
   ],
   "source": [
    "temp1 = tuple(temp)\n",
    "print(temp1)"
   ]
  },
  {
   "cell_type": "markdown",
   "id": "Z9LJWgBkjNTG",
   "metadata": {
    "id": "Z9LJWgBkjNTG"
   },
   "source": [
    "Iterate through temp1 and print all the items in temp1."
   ]
  },
  {
   "cell_type": "code",
   "execution_count": 42,
   "id": "t0v-FZsNjNTH",
   "metadata": {
    "id": "t0v-FZsNjNTH"
   },
   "outputs": [
    {
     "name": "stdout",
     "output_type": "stream",
     "text": [
      "11\n",
      "Virat\n",
      "50.0\n"
     ]
    }
   ],
   "source": [
    "temp1 = (11, 'Virat', 50.0)\n",
    "\n",
    "for item in temp1:\n",
    "    print(item)"
   ]
  },
  {
   "cell_type": "markdown",
   "id": "A4FXMQDfjNTH",
   "metadata": {
    "id": "A4FXMQDfjNTH"
   },
   "source": [
    "replace first element with 17 in temp1"
   ]
  },
  {
   "cell_type": "code",
   "execution_count": 46,
   "id": "eioDSdW8jNTH",
   "metadata": {
    "id": "eioDSdW8jNTH"
   },
   "outputs": [
    {
     "name": "stdout",
     "output_type": "stream",
     "text": [
      "(17, 'Virat', 50.0)\n"
     ]
    }
   ],
   "source": [
    "temp = list(temp1)        # convert tuple to list\n",
    "temp[0] = 17\n",
    "\n",
    "temp1 = tuple(temp)       # Convert the list back to a tuple\n",
    "print(temp1)"
   ]
  },
  {
   "cell_type": "markdown",
   "id": "IuGIObFZjNTH",
   "metadata": {
    "id": "IuGIObFZjNTH"
   },
   "source": [
    "<b>Oops!! You got an error. Hey Don't worry! Its because Once a tuple is created, you cannot change its values unlike list.</b>"
   ]
  },
  {
   "cell_type": "markdown",
   "id": "ExB_cM1ZjNTH",
   "metadata": {
    "id": "ExB_cM1ZjNTH"
   },
   "source": [
    "### Create city = (\"Bangalore\", 28.9949521, 72)"
   ]
  },
  {
   "cell_type": "code",
   "execution_count": 48,
   "id": "fWz52DjjjNTH",
   "metadata": {
    "id": "fWz52DjjjNTH"
   },
   "outputs": [],
   "source": [
    "city = (\"Bangalore\", 28.9949521, 72)"
   ]
  },
  {
   "cell_type": "markdown",
   "id": "v4ipyqXsjNTH",
   "metadata": {
    "id": "v4ipyqXsjNTH"
   },
   "source": [
    "Print first element of city"
   ]
  },
  {
   "cell_type": "code",
   "execution_count": 49,
   "id": "KJHMuFk1jNTI",
   "metadata": {
    "id": "KJHMuFk1jNTI"
   },
   "outputs": [
    {
     "name": "stdout",
     "output_type": "stream",
     "text": [
      "Bangalore\n"
     ]
    }
   ],
   "source": [
    "print(city[0])"
   ]
  },
  {
   "cell_type": "markdown",
   "id": "N5FoHg4ujNTI",
   "metadata": {
    "id": "N5FoHg4ujNTI"
   },
   "source": [
    "Create city2 = (‘Chennai’, 30.01, 74)"
   ]
  },
  {
   "cell_type": "code",
   "execution_count": 51,
   "id": "fYuGqbDEjNTI",
   "metadata": {
    "id": "fYuGqbDEjNTI"
   },
   "outputs": [],
   "source": [
    "city2 = ('Chennai', 30.01, 74)"
   ]
  },
  {
   "cell_type": "markdown",
   "id": "0gz-HACUjNTI",
   "metadata": {
    "id": "0gz-HACUjNTI"
   },
   "source": [
    "Create cities which consist of city and city2"
   ]
  },
  {
   "cell_type": "code",
   "execution_count": 53,
   "id": "5dTN1LQPjNTI",
   "metadata": {
    "id": "5dTN1LQPjNTI"
   },
   "outputs": [],
   "source": [
    "cities = (city, city2)"
   ]
  },
  {
   "cell_type": "markdown",
   "id": "He-teRi2jNTI",
   "metadata": {
    "id": "He-teRi2jNTI"
   },
   "source": [
    "Print cities"
   ]
  },
  {
   "cell_type": "code",
   "execution_count": 54,
   "id": "ISySNfxGjNTI",
   "metadata": {
    "id": "ISySNfxGjNTI"
   },
   "outputs": [
    {
     "name": "stdout",
     "output_type": "stream",
     "text": [
      "(('Bangalore', 28.9949521, 72), ('Chennai', 30.01, 74))\n"
     ]
    }
   ],
   "source": [
    "print(cities)"
   ]
  },
  {
   "cell_type": "markdown",
   "id": "brFx6-rtjNTJ",
   "metadata": {
    "id": "brFx6-rtjNTJ"
   },
   "source": [
    "Print type of first element in cities"
   ]
  },
  {
   "cell_type": "code",
   "execution_count": 55,
   "id": "CmIifGybjNTJ",
   "metadata": {
    "id": "CmIifGybjNTJ"
   },
   "outputs": [
    {
     "name": "stdout",
     "output_type": "stream",
     "text": [
      "<class 'tuple'>\n"
     ]
    }
   ],
   "source": [
    "print(type(cities[0]))"
   ]
  },
  {
   "cell_type": "markdown",
   "id": "jtk8J_yHjNTJ",
   "metadata": {
    "id": "jtk8J_yHjNTJ"
   },
   "source": [
    "print the type of cities\n"
   ]
  },
  {
   "cell_type": "code",
   "execution_count": 56,
   "id": "y9rdG29XjNTJ",
   "metadata": {
    "id": "y9rdG29XjNTJ"
   },
   "outputs": [
    {
     "name": "stdout",
     "output_type": "stream",
     "text": [
      "<class 'tuple'>\n"
     ]
    }
   ],
   "source": [
    "print(type(cities))"
   ]
  },
  {
   "cell_type": "markdown",
   "id": "uXHSadWqjNTJ",
   "metadata": {
    "id": "uXHSadWqjNTJ"
   },
   "source": [
    "Hey that implies you made a nested tuples!!"
   ]
  },
  {
   "cell_type": "markdown",
   "id": "zViY-S_djNTJ",
   "metadata": {
    "id": "zViY-S_djNTJ"
   },
   "source": [
    "## DICTIONARY"
   ]
  },
  {
   "cell_type": "markdown",
   "id": "4NjUxRaZjNTK",
   "metadata": {
    "id": "4NjUxRaZjNTK"
   },
   "source": [
    "### Create a dictionary d = {\"actor\":\"amir\",\"animal\":\"cat\",\"earth\":2,\"list\":[23,32,12]}"
   ]
  },
  {
   "cell_type": "code",
   "execution_count": 57,
   "id": "UCtEFPI4jNTK",
   "metadata": {
    "id": "UCtEFPI4jNTK"
   },
   "outputs": [],
   "source": [
    "d = {\"actor\":\"amir\",\"animal\":\"cat\",\"earth\":2,\"list\":[23,32,12]}"
   ]
  },
  {
   "cell_type": "markdown",
   "id": "OamenDk8jNTK",
   "metadata": {
    "id": "OamenDk8jNTK"
   },
   "source": [
    "Print the value of d[0]"
   ]
  },
  {
   "cell_type": "code",
   "execution_count": null,
   "id": "gion3awcjNTK",
   "metadata": {
    "id": "gion3awcjNTK"
   },
   "outputs": [],
   "source": [
    "# Here i got error"
   ]
  },
  {
   "cell_type": "markdown",
   "id": "XYtrrUigjNTK",
   "metadata": {
    "id": "XYtrrUigjNTK"
   },
   "source": [
    "<b>Oops!! again an error. again a fun fact. Dictionary return the value for key if key is in the dictionary, else throws KeyError\n",
    "and we don't have key 0 here :( </b>"
   ]
  },
  {
   "cell_type": "markdown",
   "id": "62VXYnw1jNTK",
   "metadata": {
    "id": "62VXYnw1jNTK"
   },
   "source": [
    "Store the value of d[‘actor’] to a new variable actor."
   ]
  },
  {
   "cell_type": "code",
   "execution_count": 59,
   "id": "kkBfNz81jNTK",
   "metadata": {
    "id": "kkBfNz81jNTK"
   },
   "outputs": [
    {
     "name": "stdout",
     "output_type": "stream",
     "text": [
      "amir\n"
     ]
    }
   ],
   "source": [
    "actor = d['actor']  \n",
    "print(actor) "
   ]
  },
  {
   "cell_type": "markdown",
   "id": "uFfuF569jNTL",
   "metadata": {
    "id": "uFfuF569jNTL"
   },
   "source": [
    "Print the type of actor"
   ]
  },
  {
   "cell_type": "code",
   "execution_count": 60,
   "id": "bKbFXBxyjNTL",
   "metadata": {
    "id": "bKbFXBxyjNTL"
   },
   "outputs": [
    {
     "data": {
      "text/plain": [
       "str"
      ]
     },
     "execution_count": 60,
     "metadata": {},
     "output_type": "execute_result"
    }
   ],
   "source": [
    "type(actor)"
   ]
  },
  {
   "cell_type": "markdown",
   "id": "y549qN04jNTL",
   "metadata": {
    "id": "y549qN04jNTL"
   },
   "source": [
    "Store the value of d[‘list’] in new variable List."
   ]
  },
  {
   "cell_type": "code",
   "execution_count": 61,
   "id": "I7GyOK8DjNTL",
   "metadata": {
    "id": "I7GyOK8DjNTL"
   },
   "outputs": [
    {
     "name": "stdout",
     "output_type": "stream",
     "text": [
      "[23, 32, 12]\n"
     ]
    }
   ],
   "source": [
    "List = d['list']\n",
    "print(List)"
   ]
  },
  {
   "cell_type": "markdown",
   "id": "Ul1YMiuNjNTL",
   "metadata": {
    "id": "Ul1YMiuNjNTL"
   },
   "source": [
    "Print the type of List."
   ]
  },
  {
   "cell_type": "code",
   "execution_count": 62,
   "id": "V0VdG9y_jNTL",
   "metadata": {
    "id": "V0VdG9y_jNTL"
   },
   "outputs": [
    {
     "data": {
      "text/plain": [
       "list"
      ]
     },
     "execution_count": 62,
     "metadata": {},
     "output_type": "execute_result"
    }
   ],
   "source": [
    "type(List)"
   ]
  },
  {
   "cell_type": "markdown",
   "id": "A0CEMABhjNTL",
   "metadata": {
    "id": "A0CEMABhjNTL"
   },
   "source": [
    "Create d1 = { ‘singer’ : ‘Kr$na’ , ‘album’: ‘Still here’, ‘genre’ : ‘hip-hop’}"
   ]
  },
  {
   "cell_type": "code",
   "execution_count": 65,
   "id": "FCGCw5FEjNTL",
   "metadata": {
    "id": "FCGCw5FEjNTL"
   },
   "outputs": [],
   "source": [
    "d1 = { 'singer' : 'Kr$na' , 'album': 'Still here', 'genre' : 'hip-hop'}"
   ]
  },
  {
   "cell_type": "markdown",
   "id": "ybGIILrLjNTM",
   "metadata": {
    "id": "ybGIILrLjNTM"
   },
   "source": [
    "Merge d1 into d."
   ]
  },
  {
   "cell_type": "code",
   "execution_count": 66,
   "id": "UmDbbQJPjNTM",
   "metadata": {
    "id": "UmDbbQJPjNTM"
   },
   "outputs": [],
   "source": [
    "d.update(d1)"
   ]
  },
  {
   "cell_type": "markdown",
   "id": "jhAPX45ZjNTM",
   "metadata": {
    "id": "jhAPX45ZjNTM"
   },
   "source": [
    "print d"
   ]
  },
  {
   "cell_type": "code",
   "execution_count": 67,
   "id": "785S26ryjNTM",
   "metadata": {
    "id": "785S26ryjNTM"
   },
   "outputs": [
    {
     "name": "stdout",
     "output_type": "stream",
     "text": [
      "{'actor': 'amir', 'animal': 'cat', 'earth': 2, 'list': [23, 32, 12], 'singer': 'Kr$na', 'album': 'Still here', 'genre': 'hip-hop'}\n"
     ]
    }
   ],
   "source": [
    "print(d)"
   ]
  },
  {
   "cell_type": "markdown",
   "id": "9E852mY2jNTM",
   "metadata": {
    "id": "9E852mY2jNTM"
   },
   "source": [
    "Print all the keys in d"
   ]
  },
  {
   "cell_type": "code",
   "execution_count": 69,
   "id": "7K843OrLjNTM",
   "metadata": {
    "id": "7K843OrLjNTM"
   },
   "outputs": [
    {
     "data": {
      "text/plain": [
       "dict_keys(['actor', 'animal', 'earth', 'list', 'singer', 'album', 'genre'])"
      ]
     },
     "execution_count": 69,
     "metadata": {},
     "output_type": "execute_result"
    }
   ],
   "source": [
    "d.keys()"
   ]
  },
  {
   "cell_type": "markdown",
   "id": "fiuzxbGkjNTN",
   "metadata": {
    "id": "fiuzxbGkjNTN"
   },
   "source": [
    "Print all the values in d"
   ]
  },
  {
   "cell_type": "code",
   "execution_count": 70,
   "id": "Pyhh6r0pjNTN",
   "metadata": {
    "id": "Pyhh6r0pjNTN"
   },
   "outputs": [
    {
     "data": {
      "text/plain": [
       "dict_values(['amir', 'cat', 2, [23, 32, 12], 'Kr$na', 'Still here', 'hip-hop'])"
      ]
     },
     "execution_count": 70,
     "metadata": {},
     "output_type": "execute_result"
    }
   ],
   "source": [
    "d.values()"
   ]
  },
  {
   "cell_type": "markdown",
   "id": "XSoe8GWmjNTN",
   "metadata": {
    "id": "XSoe8GWmjNTN"
   },
   "source": [
    "Iterate over d, and print each key, value pair as this - (actor ----> amir)"
   ]
  },
  {
   "cell_type": "code",
   "execution_count": 71,
   "id": "O0iW9kiqjNTO",
   "metadata": {
    "id": "O0iW9kiqjNTO"
   },
   "outputs": [
    {
     "data": {
      "text/plain": [
       "dict_items([('actor', 'amir'), ('animal', 'cat'), ('earth', 2), ('list', [23, 32, 12]), ('singer', 'Kr$na'), ('album', 'Still here'), ('genre', 'hip-hop')])"
      ]
     },
     "execution_count": 71,
     "metadata": {},
     "output_type": "execute_result"
    }
   ],
   "source": [
    "d.items()"
   ]
  },
  {
   "cell_type": "markdown",
   "id": "Hhzm-EIsjNTO",
   "metadata": {
    "id": "Hhzm-EIsjNTO"
   },
   "source": [
    "count the number of occurences of charachters in string named \"sent\" using dictionary and print the same.\n"
   ]
  },
  {
   "cell_type": "code",
   "execution_count": null,
   "id": "IvRlvUAljNTP",
   "metadata": {
    "id": "IvRlvUAljNTP"
   },
   "outputs": [],
   "source": [
    "sent = 'Coronavirus Caused Lockdowns Around The World.'"
   ]
  },
  {
   "cell_type": "code",
   "execution_count": 72,
   "id": "ebNwyxUujNTP",
   "metadata": {
    "id": "ebNwyxUujNTP"
   },
   "outputs": [
    {
     "name": "stdout",
     "output_type": "stream",
     "text": [
      "{'C': 2, 'o': 6, 'r': 4, 'n': 3, 'a': 2, 'v': 1, 'i': 1, 'u': 3, 's': 3, ' ': 5, 'e': 2, 'd': 4, 'L': 1, 'c': 1, 'k': 1, 'w': 1, 'A': 1, 'T': 1, 'h': 1, 'W': 1, 'l': 1, '.': 1}\n"
     ]
    }
   ],
   "source": [
    "char_count = {}\n",
    "\n",
    "for char in sent:\n",
    "    if char in char_count:\n",
    "        char_count[char] += 1\n",
    "    else:\n",
    "        char_count[char] = 1\n",
    "\n",
    "print(char_count)"
   ]
  },
  {
   "cell_type": "code",
   "execution_count": null,
   "id": "8aa8f9f3-2fe8-4d0d-8779-0b99208a434e",
   "metadata": {},
   "outputs": [],
   "source": []
  }
 ],
 "metadata": {
  "colab": {
   "provenance": []
  },
  "kernelspec": {
   "display_name": "Python 3 (ipykernel)",
   "language": "python",
   "name": "python3"
  },
  "language_info": {
   "codemirror_mode": {
    "name": "ipython",
    "version": 3
   },
   "file_extension": ".py",
   "mimetype": "text/x-python",
   "name": "python",
   "nbconvert_exporter": "python",
   "pygments_lexer": "ipython3",
   "version": "3.11.7"
  }
 },
 "nbformat": 4,
 "nbformat_minor": 5
}
