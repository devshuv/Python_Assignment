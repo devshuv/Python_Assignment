{
  "cells": [
    {
      "cell_type": "markdown",
      "metadata": {
        "id": "XHvoVqK5mYA-"
      },
      "source": [
        "# <center>Pandas Assignment</center>"
      ],
      "id": "XHvoVqK5mYA-"
    },
    {
      "cell_type": "markdown",
      "metadata": {
        "id": "v9Qb2_aumYBF"
      },
      "source": [
        "Import pandas and numpy with their aliases"
      ],
      "id": "v9Qb2_aumYBF"
    },
    {
      "cell_type": "code",
      "execution_count": null,
      "metadata": {
        "id": "ihFP1wXZmYBF"
      },
      "outputs": [],
      "source": [],
      "id": "ihFP1wXZmYBF"
    },
    {
      "cell_type": "markdown",
      "metadata": {
        "id": "0b8hUBhTmYBG"
      },
      "source": [
        "Create a variable a = pd.Series([ 100, 200, 300, 400])"
      ],
      "id": "0b8hUBhTmYBG"
    },
    {
      "cell_type": "code",
      "execution_count": null,
      "metadata": {
        "id": "hzvzkbNYmYBH"
      },
      "outputs": [],
      "source": [
        "# a =\n"
      ],
      "id": "hzvzkbNYmYBH"
    },
    {
      "cell_type": "markdown",
      "metadata": {
        "id": "BSyNFbitmYBH"
      },
      "source": [
        "Print a, and data type"
      ],
      "id": "BSyNFbitmYBH"
    },
    {
      "cell_type": "code",
      "execution_count": null,
      "metadata": {
        "id": "GMmFsjPamYBH"
      },
      "outputs": [],
      "source": [
        "\n"
      ],
      "id": "GMmFsjPamYBH"
    },
    {
      "cell_type": "markdown",
      "metadata": {
        "id": "z0FryxOXmYBI"
      },
      "source": [
        "Using indexing access the element 300 from the series a."
      ],
      "id": "z0FryxOXmYBI"
    },
    {
      "cell_type": "code",
      "execution_count": null,
      "metadata": {
        "id": "wERTsh-4mYBJ"
      },
      "outputs": [],
      "source": [
        "\n"
      ],
      "id": "wERTsh-4mYBJ"
    },
    {
      "cell_type": "markdown",
      "metadata": {
        "id": "HHEKyOtemYBJ"
      },
      "source": [
        "What are the values of index for series a?"
      ],
      "id": "HHEKyOtemYBJ"
    },
    {
      "cell_type": "code",
      "execution_count": null,
      "metadata": {
        "id": "uQOnSJQ4mYBJ"
      },
      "outputs": [],
      "source": [],
      "id": "uQOnSJQ4mYBJ"
    },
    {
      "cell_type": "markdown",
      "metadata": {
        "id": "EuFjG74wmYBJ"
      },
      "source": [
        "Change the index to  ['c', 'a', 'b', 'd']"
      ],
      "id": "EuFjG74wmYBJ"
    },
    {
      "cell_type": "code",
      "execution_count": null,
      "metadata": {
        "id": "1ueAAFiJmYBK"
      },
      "outputs": [],
      "source": [
        "\n",
        "\n",
        "\n"
      ],
      "id": "1ueAAFiJmYBK"
    },
    {
      "cell_type": "markdown",
      "metadata": {
        "id": "ZdZLyRO7mYBK"
      },
      "source": [
        "Access the value in the series with index 'd'"
      ],
      "id": "ZdZLyRO7mYBK"
    },
    {
      "cell_type": "code",
      "execution_count": null,
      "metadata": {
        "id": "oN1ce3GymYBK"
      },
      "outputs": [],
      "source": [
        "\n",
        "\n"
      ],
      "id": "oN1ce3GymYBK"
    },
    {
      "cell_type": "markdown",
      "metadata": {
        "id": "eQSGwKtFmYBK"
      },
      "source": [
        "Sort the values wrt to the index and print it"
      ],
      "id": "eQSGwKtFmYBK"
    },
    {
      "cell_type": "code",
      "execution_count": null,
      "metadata": {
        "id": "-arvricBmYBL"
      },
      "outputs": [],
      "source": [
        "\n",
        "\n",
        "\n"
      ],
      "id": "-arvricBmYBL"
    },
    {
      "cell_type": "markdown",
      "metadata": {
        "id": "g-fXVSK2mYBL"
      },
      "source": [
        "Create a new Pandas Series b having index as 'e', 'f', and 'g' and value 800,450,100 and print it"
      ],
      "id": "g-fXVSK2mYBL"
    },
    {
      "cell_type": "code",
      "execution_count": null,
      "metadata": {
        "id": "fAg_rI3hmYBL"
      },
      "outputs": [],
      "source": [
        "# b =\n",
        "\n",
        "\n",
        "\n",
        "\n"
      ],
      "id": "fAg_rI3hmYBL"
    },
    {
      "cell_type": "markdown",
      "metadata": {
        "id": "jWhRRtF1mYBL"
      },
      "source": [
        "Append b series at the end of a series"
      ],
      "id": "jWhRRtF1mYBL"
    },
    {
      "cell_type": "code",
      "execution_count": null,
      "metadata": {
        "id": "TBV8hkRXmYBL"
      },
      "outputs": [],
      "source": [
        "# a =\n",
        "\n"
      ],
      "id": "TBV8hkRXmYBL"
    },
    {
      "cell_type": "code",
      "execution_count": null,
      "metadata": {
        "id": "Xfm5WgBYmYBM"
      },
      "outputs": [],
      "source": [
        "#print a again after appending b into it\n",
        "\n",
        "\n",
        "\n"
      ],
      "id": "Xfm5WgBYmYBM"
    },
    {
      "cell_type": "markdown",
      "metadata": {
        "id": "6lz_BR0umYBM"
      },
      "source": [
        "Sort the values in descending order of a and print the index of the sorted series"
      ],
      "id": "6lz_BR0umYBM"
    },
    {
      "cell_type": "code",
      "execution_count": null,
      "metadata": {
        "id": "5srJV0y0mYBM"
      },
      "outputs": [],
      "source": [
        "# a =\n",
        "\n"
      ],
      "id": "5srJV0y0mYBM"
    },
    {
      "cell_type": "code",
      "execution_count": null,
      "metadata": {
        "id": "9OxmwQRAmYBM"
      },
      "outputs": [],
      "source": [
        "\n",
        "\n"
      ],
      "id": "9OxmwQRAmYBM"
    },
    {
      "cell_type": "markdown",
      "metadata": {
        "id": "OQ5gj4romYBM"
      },
      "source": [
        "## Pandas DataFrame"
      ],
      "id": "OQ5gj4romYBM"
    },
    {
      "cell_type": "markdown",
      "metadata": {
        "id": "tD7de_2amYBM"
      },
      "source": [
        "### Part 1"
      ],
      "id": "tD7de_2amYBM"
    },
    {
      "cell_type": "markdown",
      "metadata": {
        "id": "z_nAQa4BmYBN"
      },
      "source": [
        "Create a pandas dataframe df from the series 'a' that we used in the last section, print the dataframe"
      ],
      "id": "z_nAQa4BmYBN"
    },
    {
      "cell_type": "code",
      "execution_count": null,
      "metadata": {
        "id": "ojD-B6FvmYBN"
      },
      "outputs": [],
      "source": [
        "# df =\n",
        "\n",
        "\n",
        "\n",
        "\n"
      ],
      "id": "ojD-B6FvmYBN"
    },
    {
      "cell_type": "code",
      "execution_count": null,
      "metadata": {
        "id": "2r2SyCYNmYBN"
      },
      "outputs": [],
      "source": [],
      "id": "2r2SyCYNmYBN"
    },
    {
      "cell_type": "markdown",
      "metadata": {
        "id": "yzrIH3irmYBN"
      },
      "source": [
        "What is the shape of the datafarme <br>\n",
        "(also, what does it imply?)"
      ],
      "id": "yzrIH3irmYBN"
    },
    {
      "cell_type": "code",
      "execution_count": null,
      "metadata": {
        "id": "aFo5tNrVmYBN"
      },
      "outputs": [],
      "source": [
        "\n",
        "\n",
        "\n"
      ],
      "id": "aFo5tNrVmYBN"
    },
    {
      "cell_type": "markdown",
      "metadata": {
        "id": "Dl0Hr0LSmYBO"
      },
      "source": [
        "Hey! remember shape (7,1) implies dataframe has 7 rows and 1 column."
      ],
      "id": "Dl0Hr0LSmYBO"
    },
    {
      "cell_type": "markdown",
      "metadata": {
        "id": "hwcaXl43mYBO"
      },
      "source": [
        "What is the index of the dataframe, is it same as the series 'a'"
      ],
      "id": "hwcaXl43mYBO"
    },
    {
      "cell_type": "code",
      "execution_count": null,
      "metadata": {
        "id": "1-gMxT-emYBO"
      },
      "outputs": [],
      "source": [
        "# yep its same as the series.\n",
        "\n"
      ],
      "id": "1-gMxT-emYBO"
    },
    {
      "cell_type": "markdown",
      "metadata": {
        "id": "C5wadnBymYBO"
      },
      "source": [
        "print the head and tail of the dataframe. <br>\n",
        "Additional - (what does head and tali represent?)"
      ],
      "id": "C5wadnBymYBO"
    },
    {
      "cell_type": "code",
      "execution_count": null,
      "metadata": {
        "id": "U2vxYrPnmYBO"
      },
      "outputs": [],
      "source": [
        "\n",
        "\n"
      ],
      "id": "U2vxYrPnmYBO"
    },
    {
      "cell_type": "code",
      "execution_count": null,
      "metadata": {
        "id": "nikOdGC_mYBO"
      },
      "outputs": [],
      "source": [
        "\n",
        "\n"
      ],
      "id": "nikOdGC_mYBO"
    },
    {
      "cell_type": "markdown",
      "metadata": {
        "id": "Ci2tiwbBmYBO"
      },
      "source": [
        "Rename the column of the dataframe as 'points'"
      ],
      "id": "Ci2tiwbBmYBO"
    },
    {
      "cell_type": "code",
      "execution_count": null,
      "metadata": {
        "id": "K3OsbVD3mYBP"
      },
      "outputs": [],
      "source": [
        "\n",
        "\n",
        "\n"
      ],
      "id": "K3OsbVD3mYBP"
    },
    {
      "cell_type": "markdown",
      "metadata": {
        "id": "bBV0VfzzmYBP"
      },
      "source": [
        "Create another Series 'fruits', which contains random names of fruits from ['orange','mango','apple']. The series should contain 7 elements, randomly selected from ['orange','mango','apple']"
      ],
      "id": "bBV0VfzzmYBP"
    },
    {
      "cell_type": "code",
      "execution_count": null,
      "metadata": {
        "id": "baUmpsuhmYBP"
      },
      "outputs": [],
      "source": [
        "#Create fruits array\n",
        "\n",
        "# fruits =\n",
        "\n",
        "\n",
        "\n"
      ],
      "id": "baUmpsuhmYBP"
    },
    {
      "cell_type": "code",
      "execution_count": null,
      "metadata": {
        "id": "QrbnjM8FmYBP"
      },
      "outputs": [],
      "source": [
        "#Create series fruits out of fruits array\n",
        "\n",
        "# fruits =\n",
        "\n",
        "\n"
      ],
      "id": "QrbnjM8FmYBP"
    },
    {
      "cell_type": "markdown",
      "metadata": {
        "id": "20slMbq5mYBP"
      },
      "source": [
        "Change the index of fruits to the index of dataframe df"
      ],
      "id": "20slMbq5mYBP"
    },
    {
      "cell_type": "code",
      "execution_count": null,
      "metadata": {
        "id": "1n4THBgkmYBQ"
      },
      "outputs": [],
      "source": [
        "\n",
        "\n",
        "\n",
        "\n",
        "\n"
      ],
      "id": "1n4THBgkmYBQ"
    },
    {
      "cell_type": "markdown",
      "metadata": {
        "id": "oPv8dJ_2mYBQ"
      },
      "source": [
        "Add this fruits series as a new column to the dataframe df with its column name as 'fruits'\n",
        "<br>print the head of the dataframe to verify"
      ],
      "id": "oPv8dJ_2mYBQ"
    },
    {
      "cell_type": "code",
      "execution_count": null,
      "metadata": {
        "id": "tit_GDscmYBQ"
      },
      "outputs": [],
      "source": [
        "\n",
        "\n",
        "\n",
        "\n"
      ],
      "id": "tit_GDscmYBQ"
    },
    {
      "cell_type": "code",
      "execution_count": null,
      "metadata": {
        "id": "X3A6oKUXmYBQ"
      },
      "outputs": [],
      "source": [
        "\n",
        "\n",
        "\n",
        "\n"
      ],
      "id": "X3A6oKUXmYBQ"
    },
    {
      "cell_type": "markdown",
      "metadata": {
        "id": "ACsvenslmYBQ"
      },
      "source": [
        "## Pandas Concatenation"
      ],
      "id": "ACsvenslmYBQ"
    },
    {
      "cell_type": "markdown",
      "metadata": {
        "id": "cwgg82N0mYBQ"
      },
      "source": [
        "Create a dataframe  d1 where the cols are  ‘city’ : [‘Chandigarh’, ‘Delhi’, ‘Kanpur’, ‘Chennai’, ‘Manali’ ] and ‘Temperature’ : [15, 22, 20, 26,-2]"
      ],
      "id": "cwgg82N0mYBQ"
    },
    {
      "cell_type": "code",
      "execution_count": null,
      "metadata": {
        "id": "09tWwU18mYBR"
      },
      "outputs": [],
      "source": [
        "# d1 =\n",
        "\n",
        "\n"
      ],
      "id": "09tWwU18mYBR"
    },
    {
      "cell_type": "markdown",
      "metadata": {
        "id": "XAquuUx_mYBR"
      },
      "source": [
        "Print(d1)"
      ],
      "id": "XAquuUx_mYBR"
    },
    {
      "cell_type": "code",
      "execution_count": null,
      "metadata": {
        "id": "tEaf6dUVmYBR"
      },
      "outputs": [],
      "source": [
        "\n",
        "\n",
        "\n"
      ],
      "id": "tEaf6dUVmYBR"
    },
    {
      "cell_type": "markdown",
      "metadata": {
        "id": "YmZ9u-4FmYBR"
      },
      "source": [
        "What is the shape of d1."
      ],
      "id": "YmZ9u-4FmYBR"
    },
    {
      "cell_type": "code",
      "execution_count": null,
      "metadata": {
        "id": "upPyfWR7mYBR"
      },
      "outputs": [],
      "source": [
        "\n",
        "\n",
        "\n"
      ],
      "id": "upPyfWR7mYBR"
    },
    {
      "cell_type": "markdown",
      "metadata": {
        "id": "JtBQ5SLtmYBS"
      },
      "source": [
        "Set city = d1['city']"
      ],
      "id": "JtBQ5SLtmYBS"
    },
    {
      "cell_type": "code",
      "execution_count": null,
      "metadata": {
        "id": "mzE78QzrmYBS"
      },
      "outputs": [],
      "source": [
        "\n",
        "\n",
        "\n"
      ],
      "id": "mzE78QzrmYBS"
    },
    {
      "cell_type": "markdown",
      "metadata": {
        "id": "WubWnFIcmYBS"
      },
      "source": [
        "print city <br>\n",
        "What is the type of city."
      ],
      "id": "WubWnFIcmYBS"
    },
    {
      "cell_type": "code",
      "execution_count": null,
      "metadata": {
        "id": "6d4EjYTemYBS"
      },
      "outputs": [],
      "source": [
        "\n",
        "\n",
        "\n"
      ],
      "id": "6d4EjYTemYBS"
    },
    {
      "cell_type": "markdown",
      "metadata": {
        "id": "uUdrLgg6mYBS"
      },
      "source": [
        "Create another datafeame 'd2' where the columns are <br>\n",
        "'city' - ['Bengalaru','Coimbatore','Srirangam','Pondicherry'] <br>\n",
        "'Temperature' - [24,35,36,39]"
      ],
      "id": "uUdrLgg6mYBS"
    },
    {
      "cell_type": "code",
      "execution_count": null,
      "metadata": {
        "id": "CFBCGcvhmYBS"
      },
      "outputs": [],
      "source": [
        "# d2 =\n",
        "\n",
        "\n",
        "\n"
      ],
      "id": "CFBCGcvhmYBS"
    },
    {
      "cell_type": "markdown",
      "metadata": {
        "id": "HivVdLN5mYBT"
      },
      "source": [
        "print the shape of this dataframe"
      ],
      "id": "HivVdLN5mYBT"
    },
    {
      "cell_type": "code",
      "execution_count": null,
      "metadata": {
        "id": "9FFgtQJhmYBT"
      },
      "outputs": [],
      "source": [
        "\n"
      ],
      "id": "9FFgtQJhmYBT"
    },
    {
      "cell_type": "markdown",
      "metadata": {
        "id": "UK38h5ktmYBT"
      },
      "source": [
        "merge the two dataframes together, save it in a new dataframe named 'd3'"
      ],
      "id": "UK38h5ktmYBT"
    },
    {
      "cell_type": "code",
      "execution_count": null,
      "metadata": {
        "id": "GMbOPfjCmYBT"
      },
      "outputs": [],
      "source": [
        "# d3 =\n",
        "\n",
        "\n",
        "\n"
      ],
      "id": "GMbOPfjCmYBT"
    },
    {
      "cell_type": "markdown",
      "metadata": {
        "id": "1dGlNGzjmYBT"
      },
      "source": [
        "Select the part of the dataframe such that it contains cities wherer temp is less then or equal to 20 <br>\n",
        "How many cities are there?"
      ],
      "id": "1dGlNGzjmYBT"
    },
    {
      "cell_type": "code",
      "execution_count": null,
      "metadata": {
        "id": "1vtC2UkgmYBT"
      },
      "outputs": [],
      "source": [
        "\n",
        "\n",
        "\n"
      ],
      "id": "1vtC2UkgmYBT"
    },
    {
      "cell_type": "markdown",
      "metadata": {
        "id": "82QIQRQUmYBT"
      },
      "source": [
        "Select the part of the dataframe such that it contains the cities where tempearature greater than or equal to 35"
      ],
      "id": "82QIQRQUmYBT"
    },
    {
      "cell_type": "code",
      "execution_count": null,
      "metadata": {
        "id": "Ea_hMtyGmYBU"
      },
      "outputs": [],
      "source": [
        "\n",
        "\n",
        "\n"
      ],
      "id": "Ea_hMtyGmYBU"
    },
    {
      "cell_type": "markdown",
      "metadata": {
        "id": "BrYscXpWmYBU"
      },
      "source": [
        "## Applying functions to columns and creating new columns"
      ],
      "id": "BrYscXpWmYBU"
    },
    {
      "cell_type": "markdown",
      "metadata": {
        "id": "7Z4ioDxtmYBU"
      },
      "source": [
        "We need to create another column in d3, which contains  a boolean value for each city to indicate whether it's a union territory or not.\n",
        "- HINT: Chandigarh, Pondicherry and Delhi are only 3 union territories here.\n"
      ],
      "id": "7Z4ioDxtmYBU"
    },
    {
      "cell_type": "code",
      "execution_count": null,
      "metadata": {
        "id": "FR2wgv6tmYBU"
      },
      "outputs": [],
      "source": [
        "# write function here\n",
        "\n",
        "# def is_ut(x):\n",
        "\n",
        "#     # write code below\n",
        "\n",
        "# d3['is_ut'] =\n"
      ],
      "id": "FR2wgv6tmYBU"
    },
    {
      "cell_type": "code",
      "execution_count": null,
      "metadata": {
        "id": "0hd7QjComYBU"
      },
      "outputs": [],
      "source": [
        "# print d3\n",
        "\n"
      ],
      "id": "0hd7QjComYBU"
    },
    {
      "cell_type": "markdown",
      "metadata": {
        "id": "z88YETlMmYBU"
      },
      "source": [
        "The temperatures mentioned in ‘Temperature’ column are mentioned in Celsius, we need another column which contains the same in Fahrenheit."
      ],
      "id": "z88YETlMmYBU"
    },
    {
      "cell_type": "markdown",
      "metadata": {
        "id": "ywp07m-xmYBU"
      },
      "source": [
        "HINT -\n",
        "- Define a function c_to_f which takes input temp in celsius and returns a value with temperature in Fahrenheit.\n",
        "- To check: c_to_f(10) should return 50.\n"
      ],
      "id": "ywp07m-xmYBU"
    },
    {
      "cell_type": "code",
      "execution_count": null,
      "metadata": {
        "id": "V0x_0IAAmYBV"
      },
      "outputs": [],
      "source": [
        "# write function here\n",
        "\n",
        "\n",
        "\n",
        "\n",
        "\n"
      ],
      "id": "V0x_0IAAmYBV"
    },
    {
      "cell_type": "code",
      "execution_count": null,
      "metadata": {
        "id": "Wc9meranmYBV"
      },
      "outputs": [],
      "source": [
        "# check function c_to_f(10)\n",
        "\n",
        "\n"
      ],
      "id": "Wc9meranmYBV"
    },
    {
      "cell_type": "code",
      "execution_count": null,
      "metadata": {
        "id": "H79GUcoImYBV"
      },
      "outputs": [],
      "source": [
        "# apply function c_to_f to d3 to create a column 'temp_farenhiet'\n",
        "\n",
        "\n"
      ],
      "id": "H79GUcoImYBV"
    },
    {
      "cell_type": "markdown",
      "metadata": {
        "id": "Wj0p6JKHmYBV"
      },
      "source": [
        "## Indexing and selecting rows in DataFrame"
      ],
      "id": "Wj0p6JKHmYBV"
    },
    {
      "cell_type": "markdown",
      "metadata": {
        "id": "fFitRJy2mYBV"
      },
      "source": [
        "Select subset of the dataframe d1 such that it contains the cities which are union territories."
      ],
      "id": "fFitRJy2mYBV"
    },
    {
      "cell_type": "code",
      "execution_count": null,
      "metadata": {
        "id": "Kg8OSVz0mYBV"
      },
      "outputs": [],
      "source": [
        "\n",
        "\n"
      ],
      "id": "Kg8OSVz0mYBV"
    },
    {
      "cell_type": "markdown",
      "metadata": {
        "id": "XnxQl4ZPmYBV"
      },
      "source": [
        "Select a subset of the dataframe d1 such that it contains the cities which only have temperature above 90 Farenhiet."
      ],
      "id": "XnxQl4ZPmYBV"
    },
    {
      "cell_type": "code",
      "execution_count": null,
      "metadata": {
        "id": "9o62VSn7mYBV"
      },
      "outputs": [],
      "source": [
        "\n",
        "\n",
        "\n"
      ],
      "id": "9o62VSn7mYBV"
    },
    {
      "cell_type": "markdown",
      "metadata": {
        "id": "IQq7K2EtmYBW"
      },
      "source": [
        "Select only the first three rows of the dataframe d1.\n"
      ],
      "id": "IQq7K2EtmYBW"
    },
    {
      "cell_type": "code",
      "execution_count": null,
      "metadata": {
        "id": "PlmVOyAAmYBW"
      },
      "outputs": [],
      "source": [],
      "id": "PlmVOyAAmYBW"
    },
    {
      "cell_type": "markdown",
      "metadata": {
        "id": "MKNIbwW2mYBW"
      },
      "source": [
        "Select all the rows and last two columns in the dataframe.\n",
        "\n",
        "\n"
      ],
      "id": "MKNIbwW2mYBW"
    },
    {
      "cell_type": "code",
      "execution_count": null,
      "metadata": {
        "id": "WfQasVJImYBW"
      },
      "outputs": [],
      "source": [],
      "id": "WfQasVJImYBW"
    },
    {
      "cell_type": "markdown",
      "metadata": {
        "id": "LQ9xspkHmYBW"
      },
      "source": [
        "## Groupby"
      ],
      "id": "LQ9xspkHmYBW"
    },
    {
      "cell_type": "code",
      "execution_count": null,
      "metadata": {
        "id": "IhPmh2qSUIfI"
      },
      "outputs": [],
      "source": [
        "# Create a dataframe using dictionary of your choice\n",
        "\n",
        "# data =\n",
        "\n",
        "\n"
      ],
      "id": "IhPmh2qSUIfI"
    },
    {
      "cell_type": "code",
      "execution_count": null,
      "metadata": {
        "id": "x8loPsRaUIfJ"
      },
      "outputs": [],
      "source": [
        "# Use Groupby of single column with aggregate sum()\n",
        "\n",
        "\n"
      ],
      "id": "x8loPsRaUIfJ"
    },
    {
      "cell_type": "code",
      "execution_count": null,
      "metadata": {
        "id": "VIWxl25_UIfK"
      },
      "outputs": [],
      "source": [
        "# Use Groupby of single column with aggregate count()\n",
        "\n"
      ],
      "id": "VIWxl25_UIfK"
    },
    {
      "cell_type": "code",
      "execution_count": null,
      "metadata": {
        "id": "KRG71Pa8UIfK"
      },
      "outputs": [],
      "source": [
        "# Use Groupby of single column with aggregate min() and max()\n",
        "\n",
        "\n"
      ],
      "id": "KRG71Pa8UIfK"
    },
    {
      "cell_type": "code",
      "execution_count": null,
      "metadata": {
        "id": "2p6HydpzUIfK"
      },
      "outputs": [],
      "source": [
        "# Use Groupby of any 2 columns with aggregate mean()\n",
        "\n",
        "\n"
      ],
      "id": "2p6HydpzUIfK"
    },
    {
      "cell_type": "code",
      "execution_count": null,
      "metadata": {
        "id": "K0IPfvYJUIfL"
      },
      "outputs": [],
      "source": [
        "# Use Groupby of any 2 columns with aggregate min() and max()\n",
        "\n",
        "\n"
      ],
      "id": "K0IPfvYJUIfL"
    },
    {
      "cell_type": "code",
      "execution_count": null,
      "metadata": {
        "id": "nsgy-e74UIfL"
      },
      "outputs": [],
      "source": [],
      "id": "nsgy-e74UIfL"
    }
  ],
  "metadata": {
    "colab": {
      "provenance": []
    },
    "kernelspec": {
      "display_name": "Python 3",
      "language": "python",
      "name": "python3"
    },
    "language_info": {
      "codemirror_mode": {
        "name": "ipython",
        "version": 3
      },
      "file_extension": ".py",
      "mimetype": "text/x-python",
      "name": "python",
      "nbconvert_exporter": "python",
      "pygments_lexer": "ipython3",
      "version": "3.7.4"
    }
  },
  "nbformat": 4,
  "nbformat_minor": 5
}